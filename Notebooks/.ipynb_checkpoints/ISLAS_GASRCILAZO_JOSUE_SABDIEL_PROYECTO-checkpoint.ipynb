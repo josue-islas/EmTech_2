{
 "cells": [
  {
   "cell_type": "markdown",
   "metadata": {},
   "source": [
    "# Carga de información"
   ]
  },
  {
   "cell_type": "markdown",
   "metadata": {},
   "source": [
    "## Importando librerias"
   ]
  },
  {
   "cell_type": "code",
   "execution_count": 14,
   "metadata": {},
   "outputs": [],
   "source": [
    "import pandas as pd \n",
    "import matplotlib.pyplot as plt \n",
    "import seaborn as sns \n",
    "from plotly import express as px\n",
    "import plotly.graph_objects as go\n",
    "import numpy as np \n",
    "plt.style.use('seaborn')"
   ]
  },
  {
   "cell_type": "code",
   "execution_count": 13,
   "metadata": {},
   "outputs": [
    {
     "name": "stdout",
     "output_type": "stream",
     "text": [
      "Requirement already satisfied: seaborn in c:\\anaconda\\lib\\site-packages (0.10.1)\n",
      "Requirement already satisfied: scipy>=1.0.1 in c:\\anaconda\\lib\\site-packages (from seaborn) (1.5.0)\n",
      "Requirement already satisfied: pandas>=0.22.0 in c:\\anaconda\\lib\\site-packages (from seaborn) (1.0.5)\n",
      "Requirement already satisfied: numpy>=1.13.3 in c:\\anaconda\\lib\\site-packages (from seaborn) (1.18.5)\n",
      "Requirement already satisfied: matplotlib>=2.1.2 in c:\\anaconda\\lib\\site-packages (from seaborn) (3.2.2)\n",
      "Requirement already satisfied: pytz>=2017.2 in c:\\anaconda\\lib\\site-packages (from pandas>=0.22.0->seaborn) (2020.1)\n",
      "Requirement already satisfied: python-dateutil>=2.6.1 in c:\\anaconda\\lib\\site-packages (from pandas>=0.22.0->seaborn) (2.8.1)\n",
      "Requirement already satisfied: kiwisolver>=1.0.1 in c:\\anaconda\\lib\\site-packages (from matplotlib>=2.1.2->seaborn) (1.2.0)\n",
      "Requirement already satisfied: pyparsing!=2.0.4,!=2.1.2,!=2.1.6,>=2.0.1 in c:\\anaconda\\lib\\site-packages (from matplotlib>=2.1.2->seaborn) (2.4.7)\n",
      "Requirement already satisfied: cycler>=0.10 in c:\\anaconda\\lib\\site-packages (from matplotlib>=2.1.2->seaborn) (0.10.0)\n",
      "Requirement already satisfied: six>=1.5 in c:\\anaconda\\lib\\site-packages (from python-dateutil>=2.6.1->pandas>=0.22.0->seaborn) (1.15.0)\n"
     ]
    }
   ],
   "source": [
    "!pip install seaborn"
   ]
  },
  {
   "cell_type": "markdown",
   "metadata": {},
   "source": [
    "## Paleta de colores (seaborn)"
   ]
  },
  {
   "cell_type": "code",
   "execution_count": 2,
   "metadata": {},
   "outputs": [],
   "source": [
    "paleta = 'flare_r'"
   ]
  },
  {
   "cell_type": "markdown",
   "metadata": {},
   "source": [
    "## Carga de la base de datos"
   ]
  },
  {
   "cell_type": "code",
   "execution_count": 3,
   "metadata": {},
   "outputs": [
    {
     "data": {
      "text/html": [
       "<div>\n",
       "<style scoped>\n",
       "    .dataframe tbody tr th:only-of-type {\n",
       "        vertical-align: middle;\n",
       "    }\n",
       "\n",
       "    .dataframe tbody tr th {\n",
       "        vertical-align: top;\n",
       "    }\n",
       "\n",
       "    .dataframe thead th {\n",
       "        text-align: right;\n",
       "    }\n",
       "</style>\n",
       "<table border=\"1\" class=\"dataframe\">\n",
       "  <thead>\n",
       "    <tr style=\"text-align: right;\">\n",
       "      <th></th>\n",
       "      <th>direction</th>\n",
       "      <th>origin</th>\n",
       "      <th>destination</th>\n",
       "      <th>year</th>\n",
       "      <th>date</th>\n",
       "      <th>product</th>\n",
       "      <th>transport_mode</th>\n",
       "      <th>company_name</th>\n",
       "      <th>total_value</th>\n",
       "    </tr>\n",
       "    <tr>\n",
       "      <th>register_id</th>\n",
       "      <th></th>\n",
       "      <th></th>\n",
       "      <th></th>\n",
       "      <th></th>\n",
       "      <th></th>\n",
       "      <th></th>\n",
       "      <th></th>\n",
       "      <th></th>\n",
       "      <th></th>\n",
       "    </tr>\n",
       "  </thead>\n",
       "  <tbody>\n",
       "    <tr>\n",
       "      <th>1</th>\n",
       "      <td>Exports</td>\n",
       "      <td>Japan</td>\n",
       "      <td>China</td>\n",
       "      <td>2015</td>\n",
       "      <td>31/01/15</td>\n",
       "      <td>Cars</td>\n",
       "      <td>Sea</td>\n",
       "      <td>Honda</td>\n",
       "      <td>33000000</td>\n",
       "    </tr>\n",
       "    <tr>\n",
       "      <th>2</th>\n",
       "      <td>Exports</td>\n",
       "      <td>Japan</td>\n",
       "      <td>China</td>\n",
       "      <td>2015</td>\n",
       "      <td>01/02/15</td>\n",
       "      <td>Cars</td>\n",
       "      <td>Sea</td>\n",
       "      <td>Honda</td>\n",
       "      <td>16000000</td>\n",
       "    </tr>\n",
       "    <tr>\n",
       "      <th>3</th>\n",
       "      <td>Exports</td>\n",
       "      <td>Japan</td>\n",
       "      <td>China</td>\n",
       "      <td>2015</td>\n",
       "      <td>02/02/15</td>\n",
       "      <td>Cars</td>\n",
       "      <td>Sea</td>\n",
       "      <td>Honda</td>\n",
       "      <td>29000000</td>\n",
       "    </tr>\n",
       "    <tr>\n",
       "      <th>4</th>\n",
       "      <td>Exports</td>\n",
       "      <td>Japan</td>\n",
       "      <td>China</td>\n",
       "      <td>2015</td>\n",
       "      <td>03/02/15</td>\n",
       "      <td>Cars</td>\n",
       "      <td>Sea</td>\n",
       "      <td>Honda</td>\n",
       "      <td>14000000</td>\n",
       "    </tr>\n",
       "    <tr>\n",
       "      <th>5</th>\n",
       "      <td>Exports</td>\n",
       "      <td>Japan</td>\n",
       "      <td>China</td>\n",
       "      <td>2015</td>\n",
       "      <td>04/02/15</td>\n",
       "      <td>Cars</td>\n",
       "      <td>Sea</td>\n",
       "      <td>Honda</td>\n",
       "      <td>17000000</td>\n",
       "    </tr>\n",
       "    <tr>\n",
       "      <th>...</th>\n",
       "      <td>...</td>\n",
       "      <td>...</td>\n",
       "      <td>...</td>\n",
       "      <td>...</td>\n",
       "      <td>...</td>\n",
       "      <td>...</td>\n",
       "      <td>...</td>\n",
       "      <td>...</td>\n",
       "      <td>...</td>\n",
       "    </tr>\n",
       "    <tr>\n",
       "      <th>19052</th>\n",
       "      <td>Imports</td>\n",
       "      <td>Japan</td>\n",
       "      <td>Singapore</td>\n",
       "      <td>2020</td>\n",
       "      <td>27/06/20</td>\n",
       "      <td>Gas turbines</td>\n",
       "      <td>Sea</td>\n",
       "      <td>Union Energy Co</td>\n",
       "      <td>1000000</td>\n",
       "    </tr>\n",
       "    <tr>\n",
       "      <th>19053</th>\n",
       "      <td>Imports</td>\n",
       "      <td>Malaysia</td>\n",
       "      <td>Singapore</td>\n",
       "      <td>2020</td>\n",
       "      <td>28/06/20</td>\n",
       "      <td>Gas turbines</td>\n",
       "      <td>Sea</td>\n",
       "      <td>Union Energy Co</td>\n",
       "      <td>2000000</td>\n",
       "    </tr>\n",
       "    <tr>\n",
       "      <th>19054</th>\n",
       "      <td>Imports</td>\n",
       "      <td>Malaysia</td>\n",
       "      <td>Singapore</td>\n",
       "      <td>2020</td>\n",
       "      <td>29/06/20</td>\n",
       "      <td>Gas turbines</td>\n",
       "      <td>Sea</td>\n",
       "      <td>Union Energy Co</td>\n",
       "      <td>33000000</td>\n",
       "    </tr>\n",
       "    <tr>\n",
       "      <th>19055</th>\n",
       "      <td>Imports</td>\n",
       "      <td>Malaysia</td>\n",
       "      <td>Singapore</td>\n",
       "      <td>2020</td>\n",
       "      <td>30/06/20</td>\n",
       "      <td>Gas turbines</td>\n",
       "      <td>Sea</td>\n",
       "      <td>Union Energy Co</td>\n",
       "      <td>13000000</td>\n",
       "    </tr>\n",
       "    <tr>\n",
       "      <th>19056</th>\n",
       "      <td>Imports</td>\n",
       "      <td>Malaysia</td>\n",
       "      <td>Singapore</td>\n",
       "      <td>2020</td>\n",
       "      <td>01/07/20</td>\n",
       "      <td>Gas turbines</td>\n",
       "      <td>Sea</td>\n",
       "      <td>Union Energy Co</td>\n",
       "      <td>30000000</td>\n",
       "    </tr>\n",
       "  </tbody>\n",
       "</table>\n",
       "<p>19056 rows × 9 columns</p>\n",
       "</div>"
      ],
      "text/plain": [
       "            direction    origin destination  year      date       product  \\\n",
       "register_id                                                                 \n",
       "1             Exports     Japan       China  2015  31/01/15          Cars   \n",
       "2             Exports     Japan       China  2015  01/02/15          Cars   \n",
       "3             Exports     Japan       China  2015  02/02/15          Cars   \n",
       "4             Exports     Japan       China  2015  03/02/15          Cars   \n",
       "5             Exports     Japan       China  2015  04/02/15          Cars   \n",
       "...               ...       ...         ...   ...       ...           ...   \n",
       "19052         Imports     Japan   Singapore  2020  27/06/20  Gas turbines   \n",
       "19053         Imports  Malaysia   Singapore  2020  28/06/20  Gas turbines   \n",
       "19054         Imports  Malaysia   Singapore  2020  29/06/20  Gas turbines   \n",
       "19055         Imports  Malaysia   Singapore  2020  30/06/20  Gas turbines   \n",
       "19056         Imports  Malaysia   Singapore  2020  01/07/20  Gas turbines   \n",
       "\n",
       "            transport_mode     company_name  total_value  \n",
       "register_id                                               \n",
       "1                      Sea            Honda     33000000  \n",
       "2                      Sea            Honda     16000000  \n",
       "3                      Sea            Honda     29000000  \n",
       "4                      Sea            Honda     14000000  \n",
       "5                      Sea            Honda     17000000  \n",
       "...                    ...              ...          ...  \n",
       "19052                  Sea  Union Energy Co      1000000  \n",
       "19053                  Sea  Union Energy Co      2000000  \n",
       "19054                  Sea  Union Energy Co     33000000  \n",
       "19055                  Sea  Union Energy Co     13000000  \n",
       "19056                  Sea  Union Energy Co     30000000  \n",
       "\n",
       "[19056 rows x 9 columns]"
      ]
     },
     "metadata": {},
     "output_type": "display_data"
    }
   ],
   "source": [
    "df = pd.read_csv('../data/synergy_logistics_database.csv', index_col='register_id')\n",
    "display(df)"
   ]
  },
  {
   "cell_type": "markdown",
   "metadata": {},
   "source": [
    "Asiganmos el tipo de dato [datetime] a la columna **date**"
   ]
  },
  {
   "cell_type": "code",
   "execution_count": 4,
   "metadata": {},
   "outputs": [
    {
     "data": {
      "text/html": [
       "<div>\n",
       "<style scoped>\n",
       "    .dataframe tbody tr th:only-of-type {\n",
       "        vertical-align: middle;\n",
       "    }\n",
       "\n",
       "    .dataframe tbody tr th {\n",
       "        vertical-align: top;\n",
       "    }\n",
       "\n",
       "    .dataframe thead th {\n",
       "        text-align: right;\n",
       "    }\n",
       "</style>\n",
       "<table border=\"1\" class=\"dataframe\">\n",
       "  <thead>\n",
       "    <tr style=\"text-align: right;\">\n",
       "      <th></th>\n",
       "      <th>direction</th>\n",
       "      <th>origin</th>\n",
       "      <th>destination</th>\n",
       "      <th>year</th>\n",
       "      <th>date</th>\n",
       "      <th>product</th>\n",
       "      <th>transport_mode</th>\n",
       "      <th>company_name</th>\n",
       "      <th>total_value</th>\n",
       "    </tr>\n",
       "    <tr>\n",
       "      <th>register_id</th>\n",
       "      <th></th>\n",
       "      <th></th>\n",
       "      <th></th>\n",
       "      <th></th>\n",
       "      <th></th>\n",
       "      <th></th>\n",
       "      <th></th>\n",
       "      <th></th>\n",
       "      <th></th>\n",
       "    </tr>\n",
       "  </thead>\n",
       "  <tbody>\n",
       "    <tr>\n",
       "      <th>1</th>\n",
       "      <td>Exports</td>\n",
       "      <td>Japan</td>\n",
       "      <td>China</td>\n",
       "      <td>2015</td>\n",
       "      <td>2015-01-31</td>\n",
       "      <td>Cars</td>\n",
       "      <td>Sea</td>\n",
       "      <td>Honda</td>\n",
       "      <td>33000000</td>\n",
       "    </tr>\n",
       "    <tr>\n",
       "      <th>2</th>\n",
       "      <td>Exports</td>\n",
       "      <td>Japan</td>\n",
       "      <td>China</td>\n",
       "      <td>2015</td>\n",
       "      <td>2015-02-01</td>\n",
       "      <td>Cars</td>\n",
       "      <td>Sea</td>\n",
       "      <td>Honda</td>\n",
       "      <td>16000000</td>\n",
       "    </tr>\n",
       "    <tr>\n",
       "      <th>3</th>\n",
       "      <td>Exports</td>\n",
       "      <td>Japan</td>\n",
       "      <td>China</td>\n",
       "      <td>2015</td>\n",
       "      <td>2015-02-02</td>\n",
       "      <td>Cars</td>\n",
       "      <td>Sea</td>\n",
       "      <td>Honda</td>\n",
       "      <td>29000000</td>\n",
       "    </tr>\n",
       "    <tr>\n",
       "      <th>4</th>\n",
       "      <td>Exports</td>\n",
       "      <td>Japan</td>\n",
       "      <td>China</td>\n",
       "      <td>2015</td>\n",
       "      <td>2015-02-03</td>\n",
       "      <td>Cars</td>\n",
       "      <td>Sea</td>\n",
       "      <td>Honda</td>\n",
       "      <td>14000000</td>\n",
       "    </tr>\n",
       "    <tr>\n",
       "      <th>5</th>\n",
       "      <td>Exports</td>\n",
       "      <td>Japan</td>\n",
       "      <td>China</td>\n",
       "      <td>2015</td>\n",
       "      <td>2015-02-04</td>\n",
       "      <td>Cars</td>\n",
       "      <td>Sea</td>\n",
       "      <td>Honda</td>\n",
       "      <td>17000000</td>\n",
       "    </tr>\n",
       "    <tr>\n",
       "      <th>...</th>\n",
       "      <td>...</td>\n",
       "      <td>...</td>\n",
       "      <td>...</td>\n",
       "      <td>...</td>\n",
       "      <td>...</td>\n",
       "      <td>...</td>\n",
       "      <td>...</td>\n",
       "      <td>...</td>\n",
       "      <td>...</td>\n",
       "    </tr>\n",
       "    <tr>\n",
       "      <th>19052</th>\n",
       "      <td>Imports</td>\n",
       "      <td>Japan</td>\n",
       "      <td>Singapore</td>\n",
       "      <td>2020</td>\n",
       "      <td>2020-06-27</td>\n",
       "      <td>Gas turbines</td>\n",
       "      <td>Sea</td>\n",
       "      <td>Union Energy Co</td>\n",
       "      <td>1000000</td>\n",
       "    </tr>\n",
       "    <tr>\n",
       "      <th>19053</th>\n",
       "      <td>Imports</td>\n",
       "      <td>Malaysia</td>\n",
       "      <td>Singapore</td>\n",
       "      <td>2020</td>\n",
       "      <td>2020-06-28</td>\n",
       "      <td>Gas turbines</td>\n",
       "      <td>Sea</td>\n",
       "      <td>Union Energy Co</td>\n",
       "      <td>2000000</td>\n",
       "    </tr>\n",
       "    <tr>\n",
       "      <th>19054</th>\n",
       "      <td>Imports</td>\n",
       "      <td>Malaysia</td>\n",
       "      <td>Singapore</td>\n",
       "      <td>2020</td>\n",
       "      <td>2020-06-29</td>\n",
       "      <td>Gas turbines</td>\n",
       "      <td>Sea</td>\n",
       "      <td>Union Energy Co</td>\n",
       "      <td>33000000</td>\n",
       "    </tr>\n",
       "    <tr>\n",
       "      <th>19055</th>\n",
       "      <td>Imports</td>\n",
       "      <td>Malaysia</td>\n",
       "      <td>Singapore</td>\n",
       "      <td>2020</td>\n",
       "      <td>2020-06-30</td>\n",
       "      <td>Gas turbines</td>\n",
       "      <td>Sea</td>\n",
       "      <td>Union Energy Co</td>\n",
       "      <td>13000000</td>\n",
       "    </tr>\n",
       "    <tr>\n",
       "      <th>19056</th>\n",
       "      <td>Imports</td>\n",
       "      <td>Malaysia</td>\n",
       "      <td>Singapore</td>\n",
       "      <td>2020</td>\n",
       "      <td>2020-07-01</td>\n",
       "      <td>Gas turbines</td>\n",
       "      <td>Sea</td>\n",
       "      <td>Union Energy Co</td>\n",
       "      <td>30000000</td>\n",
       "    </tr>\n",
       "  </tbody>\n",
       "</table>\n",
       "<p>19056 rows × 9 columns</p>\n",
       "</div>"
      ],
      "text/plain": [
       "            direction    origin destination  year       date       product  \\\n",
       "register_id                                                                  \n",
       "1             Exports     Japan       China  2015 2015-01-31          Cars   \n",
       "2             Exports     Japan       China  2015 2015-02-01          Cars   \n",
       "3             Exports     Japan       China  2015 2015-02-02          Cars   \n",
       "4             Exports     Japan       China  2015 2015-02-03          Cars   \n",
       "5             Exports     Japan       China  2015 2015-02-04          Cars   \n",
       "...               ...       ...         ...   ...        ...           ...   \n",
       "19052         Imports     Japan   Singapore  2020 2020-06-27  Gas turbines   \n",
       "19053         Imports  Malaysia   Singapore  2020 2020-06-28  Gas turbines   \n",
       "19054         Imports  Malaysia   Singapore  2020 2020-06-29  Gas turbines   \n",
       "19055         Imports  Malaysia   Singapore  2020 2020-06-30  Gas turbines   \n",
       "19056         Imports  Malaysia   Singapore  2020 2020-07-01  Gas turbines   \n",
       "\n",
       "            transport_mode     company_name  total_value  \n",
       "register_id                                               \n",
       "1                      Sea            Honda     33000000  \n",
       "2                      Sea            Honda     16000000  \n",
       "3                      Sea            Honda     29000000  \n",
       "4                      Sea            Honda     14000000  \n",
       "5                      Sea            Honda     17000000  \n",
       "...                    ...              ...          ...  \n",
       "19052                  Sea  Union Energy Co      1000000  \n",
       "19053                  Sea  Union Energy Co      2000000  \n",
       "19054                  Sea  Union Energy Co     33000000  \n",
       "19055                  Sea  Union Energy Co     13000000  \n",
       "19056                  Sea  Union Energy Co     30000000  \n",
       "\n",
       "[19056 rows x 9 columns]"
      ]
     },
     "metadata": {},
     "output_type": "display_data"
    }
   ],
   "source": [
    "df['date'] = pd.to_datetime(df['date'], format='%d/%m/%y')\n",
    "display(df)"
   ]
  },
  {
   "cell_type": "code",
   "execution_count": 5,
   "metadata": {},
   "outputs": [],
   "source": [
    "df['destination'].replace({'United Kingdom':'UK'}, inplace = True)"
   ]
  },
  {
   "cell_type": "markdown",
   "metadata": {},
   "source": [
    "## Análisis exploratorio"
   ]
  },
  {
   "cell_type": "code",
   "execution_count": 6,
   "metadata": {},
   "outputs": [
    {
     "name": "stdout",
     "output_type": "stream",
     "text": [
      "<class 'pandas.core.frame.DataFrame'>\n",
      "Int64Index: 19056 entries, 1 to 19056\n",
      "Data columns (total 9 columns):\n",
      " #   Column          Non-Null Count  Dtype         \n",
      "---  ------          --------------  -----         \n",
      " 0   direction       19056 non-null  object        \n",
      " 1   origin          19056 non-null  object        \n",
      " 2   destination     19056 non-null  object        \n",
      " 3   year            19056 non-null  int64         \n",
      " 4   date            19056 non-null  datetime64[ns]\n",
      " 5   product         19056 non-null  object        \n",
      " 6   transport_mode  19056 non-null  object        \n",
      " 7   company_name    19056 non-null  object        \n",
      " 8   total_value     19056 non-null  int64         \n",
      "dtypes: datetime64[ns](1), int64(2), object(6)\n",
      "memory usage: 1.5+ MB\n"
     ]
    }
   ],
   "source": [
    "df.info()"
   ]
  },
  {
   "cell_type": "code",
   "execution_count": 7,
   "metadata": {},
   "outputs": [
    {
     "data": {
      "text/html": [
       "<div>\n",
       "<style scoped>\n",
       "    .dataframe tbody tr th:only-of-type {\n",
       "        vertical-align: middle;\n",
       "    }\n",
       "\n",
       "    .dataframe tbody tr th {\n",
       "        vertical-align: top;\n",
       "    }\n",
       "\n",
       "    .dataframe thead th {\n",
       "        text-align: right;\n",
       "    }\n",
       "</style>\n",
       "<table border=\"1\" class=\"dataframe\">\n",
       "  <thead>\n",
       "    <tr style=\"text-align: right;\">\n",
       "      <th></th>\n",
       "      <th>year</th>\n",
       "      <th>total_value</th>\n",
       "    </tr>\n",
       "  </thead>\n",
       "  <tbody>\n",
       "    <tr>\n",
       "      <th>count</th>\n",
       "      <td>19056.000000</td>\n",
       "      <td>1.905600e+04</td>\n",
       "    </tr>\n",
       "    <tr>\n",
       "      <th>mean</th>\n",
       "      <td>2017.496327</td>\n",
       "      <td>1.131881e+07</td>\n",
       "    </tr>\n",
       "    <tr>\n",
       "      <th>std</th>\n",
       "      <td>1.706975</td>\n",
       "      <td>1.536656e+07</td>\n",
       "    </tr>\n",
       "    <tr>\n",
       "      <th>min</th>\n",
       "      <td>2015.000000</td>\n",
       "      <td>0.000000e+00</td>\n",
       "    </tr>\n",
       "    <tr>\n",
       "      <th>25%</th>\n",
       "      <td>2016.000000</td>\n",
       "      <td>6.400000e+04</td>\n",
       "    </tr>\n",
       "    <tr>\n",
       "      <th>50%</th>\n",
       "      <td>2017.000000</td>\n",
       "      <td>5.000000e+06</td>\n",
       "    </tr>\n",
       "    <tr>\n",
       "      <th>75%</th>\n",
       "      <td>2019.000000</td>\n",
       "      <td>1.600000e+07</td>\n",
       "    </tr>\n",
       "    <tr>\n",
       "      <th>max</th>\n",
       "      <td>2020.000000</td>\n",
       "      <td>2.850000e+08</td>\n",
       "    </tr>\n",
       "  </tbody>\n",
       "</table>\n",
       "</div>"
      ],
      "text/plain": [
       "               year   total_value\n",
       "count  19056.000000  1.905600e+04\n",
       "mean    2017.496327  1.131881e+07\n",
       "std        1.706975  1.536656e+07\n",
       "min     2015.000000  0.000000e+00\n",
       "25%     2016.000000  6.400000e+04\n",
       "50%     2017.000000  5.000000e+06\n",
       "75%     2019.000000  1.600000e+07\n",
       "max     2020.000000  2.850000e+08"
      ]
     },
     "execution_count": 7,
     "metadata": {},
     "output_type": "execute_result"
    }
   ],
   "source": [
    "df.describe()"
   ]
  },
  {
   "cell_type": "markdown",
   "metadata": {},
   "source": [
    "# Rutas mas comerciales"
   ]
  },
  {
   "cell_type": "markdown",
   "metadata": {},
   "source": [
    "## Destinos comerciales en general"
   ]
  },
  {
   "cell_type": "markdown",
   "metadata": {},
   "source": [
    "Creamos un array para conocer los destinos mas recurridos en base a contar las veces que aparece en el data frame"
   ]
  },
  {
   "cell_type": "code",
   "execution_count": 8,
   "metadata": {},
   "outputs": [
    {
     "name": "stdout",
     "output_type": "stream",
     "text": [
      "[['China', 1503], ['USA', 1546], ['South Korea', 415], ['Spain', 632], ['Italy', 422], ['Japan', 1072], ['Germany', 1179], ['Mexico', 1836], ['Brazil', 903], ['France', 893], ['Switzerland', 194], ['UK', 531], ['Croatia', 30], ['Ireland', 162], ['Belgium', 1248], ['Argentina', 393], ['Singapore', 586], ['Canada', 857], ['Netherlands', 699], ['Belorussia', 219], ['Turkey', 80], ['India', 180], ['Vietnam', 497], ['Russia', 295], ['United Arab Emirates', 615], ['Thailand', 1032], ['Philippines', 114], ['Peru', 44], ['Austria', 66], ['New Zealand', 249], ['Rusia', 204], ['Slovakia', 94], ['Malaysia', 89], ['Poland', 177]]\n"
     ]
    }
   ],
   "source": [
    "destinos_array = []\n",
    "[destinos_array.append([country, df[df['destination'] == country].destination.count()]) for country in df['destination'].unique()]\n",
    "print(destinos_array)"
   ]
  },
  {
   "cell_type": "code",
   "execution_count": 9,
   "metadata": {},
   "outputs": [
    {
     "data": {
      "text/html": [
       "<div>\n",
       "<style scoped>\n",
       "    .dataframe tbody tr th:only-of-type {\n",
       "        vertical-align: middle;\n",
       "    }\n",
       "\n",
       "    .dataframe tbody tr th {\n",
       "        vertical-align: top;\n",
       "    }\n",
       "\n",
       "    .dataframe thead th {\n",
       "        text-align: right;\n",
       "    }\n",
       "</style>\n",
       "<table border=\"1\" class=\"dataframe\">\n",
       "  <thead>\n",
       "    <tr style=\"text-align: right;\">\n",
       "      <th></th>\n",
       "      <th>Rating</th>\n",
       "    </tr>\n",
       "    <tr>\n",
       "      <th>País</th>\n",
       "      <th></th>\n",
       "    </tr>\n",
       "  </thead>\n",
       "  <tbody>\n",
       "    <tr>\n",
       "      <th>China</th>\n",
       "      <td>1503</td>\n",
       "    </tr>\n",
       "    <tr>\n",
       "      <th>USA</th>\n",
       "      <td>1546</td>\n",
       "    </tr>\n",
       "    <tr>\n",
       "      <th>South Korea</th>\n",
       "      <td>415</td>\n",
       "    </tr>\n",
       "    <tr>\n",
       "      <th>Spain</th>\n",
       "      <td>632</td>\n",
       "    </tr>\n",
       "    <tr>\n",
       "      <th>Italy</th>\n",
       "      <td>422</td>\n",
       "    </tr>\n",
       "    <tr>\n",
       "      <th>Japan</th>\n",
       "      <td>1072</td>\n",
       "    </tr>\n",
       "    <tr>\n",
       "      <th>Germany</th>\n",
       "      <td>1179</td>\n",
       "    </tr>\n",
       "    <tr>\n",
       "      <th>Mexico</th>\n",
       "      <td>1836</td>\n",
       "    </tr>\n",
       "    <tr>\n",
       "      <th>Brazil</th>\n",
       "      <td>903</td>\n",
       "    </tr>\n",
       "    <tr>\n",
       "      <th>France</th>\n",
       "      <td>893</td>\n",
       "    </tr>\n",
       "    <tr>\n",
       "      <th>Switzerland</th>\n",
       "      <td>194</td>\n",
       "    </tr>\n",
       "    <tr>\n",
       "      <th>UK</th>\n",
       "      <td>531</td>\n",
       "    </tr>\n",
       "    <tr>\n",
       "      <th>Croatia</th>\n",
       "      <td>30</td>\n",
       "    </tr>\n",
       "    <tr>\n",
       "      <th>Ireland</th>\n",
       "      <td>162</td>\n",
       "    </tr>\n",
       "    <tr>\n",
       "      <th>Belgium</th>\n",
       "      <td>1248</td>\n",
       "    </tr>\n",
       "    <tr>\n",
       "      <th>Argentina</th>\n",
       "      <td>393</td>\n",
       "    </tr>\n",
       "    <tr>\n",
       "      <th>Singapore</th>\n",
       "      <td>586</td>\n",
       "    </tr>\n",
       "    <tr>\n",
       "      <th>Canada</th>\n",
       "      <td>857</td>\n",
       "    </tr>\n",
       "    <tr>\n",
       "      <th>Netherlands</th>\n",
       "      <td>699</td>\n",
       "    </tr>\n",
       "    <tr>\n",
       "      <th>Belorussia</th>\n",
       "      <td>219</td>\n",
       "    </tr>\n",
       "    <tr>\n",
       "      <th>Turkey</th>\n",
       "      <td>80</td>\n",
       "    </tr>\n",
       "    <tr>\n",
       "      <th>India</th>\n",
       "      <td>180</td>\n",
       "    </tr>\n",
       "    <tr>\n",
       "      <th>Vietnam</th>\n",
       "      <td>497</td>\n",
       "    </tr>\n",
       "    <tr>\n",
       "      <th>Russia</th>\n",
       "      <td>295</td>\n",
       "    </tr>\n",
       "    <tr>\n",
       "      <th>United Arab Emirates</th>\n",
       "      <td>615</td>\n",
       "    </tr>\n",
       "    <tr>\n",
       "      <th>Thailand</th>\n",
       "      <td>1032</td>\n",
       "    </tr>\n",
       "    <tr>\n",
       "      <th>Philippines</th>\n",
       "      <td>114</td>\n",
       "    </tr>\n",
       "    <tr>\n",
       "      <th>Peru</th>\n",
       "      <td>44</td>\n",
       "    </tr>\n",
       "    <tr>\n",
       "      <th>Austria</th>\n",
       "      <td>66</td>\n",
       "    </tr>\n",
       "    <tr>\n",
       "      <th>New Zealand</th>\n",
       "      <td>249</td>\n",
       "    </tr>\n",
       "    <tr>\n",
       "      <th>Rusia</th>\n",
       "      <td>204</td>\n",
       "    </tr>\n",
       "    <tr>\n",
       "      <th>Slovakia</th>\n",
       "      <td>94</td>\n",
       "    </tr>\n",
       "    <tr>\n",
       "      <th>Malaysia</th>\n",
       "      <td>89</td>\n",
       "    </tr>\n",
       "    <tr>\n",
       "      <th>Poland</th>\n",
       "      <td>177</td>\n",
       "    </tr>\n",
       "  </tbody>\n",
       "</table>\n",
       "</div>"
      ],
      "text/plain": [
       "                      Rating\n",
       "País                        \n",
       "China                   1503\n",
       "USA                     1546\n",
       "South Korea              415\n",
       "Spain                    632\n",
       "Italy                    422\n",
       "Japan                   1072\n",
       "Germany                 1179\n",
       "Mexico                  1836\n",
       "Brazil                   903\n",
       "France                   893\n",
       "Switzerland              194\n",
       "UK                       531\n",
       "Croatia                   30\n",
       "Ireland                  162\n",
       "Belgium                 1248\n",
       "Argentina                393\n",
       "Singapore                586\n",
       "Canada                   857\n",
       "Netherlands              699\n",
       "Belorussia               219\n",
       "Turkey                    80\n",
       "India                    180\n",
       "Vietnam                  497\n",
       "Russia                   295\n",
       "United Arab Emirates     615\n",
       "Thailand                1032\n",
       "Philippines              114\n",
       "Peru                      44\n",
       "Austria                   66\n",
       "New Zealand              249\n",
       "Rusia                    204\n",
       "Slovakia                  94\n",
       "Malaysia                  89\n",
       "Poland                   177"
      ]
     },
     "metadata": {},
     "output_type": "display_data"
    }
   ],
   "source": [
    "df_destinos = pd.DataFrame(destinos_array, columns=['País', 'Rating'])\n",
    "df_destinos.set_index('País', inplace=True)\n",
    "display(df_destinos)"
   ]
  },
  {
   "cell_type": "markdown",
   "metadata": {},
   "source": [
    "Ordenando la lista de paises mas comerciales"
   ]
  },
  {
   "cell_type": "code",
   "execution_count": 10,
   "metadata": {},
   "outputs": [
    {
     "data": {
      "text/html": [
       "<div>\n",
       "<style scoped>\n",
       "    .dataframe tbody tr th:only-of-type {\n",
       "        vertical-align: middle;\n",
       "    }\n",
       "\n",
       "    .dataframe tbody tr th {\n",
       "        vertical-align: top;\n",
       "    }\n",
       "\n",
       "    .dataframe thead th {\n",
       "        text-align: right;\n",
       "    }\n",
       "</style>\n",
       "<table border=\"1\" class=\"dataframe\">\n",
       "  <thead>\n",
       "    <tr style=\"text-align: right;\">\n",
       "      <th></th>\n",
       "      <th>Rating</th>\n",
       "    </tr>\n",
       "    <tr>\n",
       "      <th>País</th>\n",
       "      <th></th>\n",
       "    </tr>\n",
       "  </thead>\n",
       "  <tbody>\n",
       "    <tr>\n",
       "      <th>Mexico</th>\n",
       "      <td>1836</td>\n",
       "    </tr>\n",
       "    <tr>\n",
       "      <th>USA</th>\n",
       "      <td>1546</td>\n",
       "    </tr>\n",
       "    <tr>\n",
       "      <th>China</th>\n",
       "      <td>1503</td>\n",
       "    </tr>\n",
       "    <tr>\n",
       "      <th>Belgium</th>\n",
       "      <td>1248</td>\n",
       "    </tr>\n",
       "    <tr>\n",
       "      <th>Germany</th>\n",
       "      <td>1179</td>\n",
       "    </tr>\n",
       "  </tbody>\n",
       "</table>\n",
       "</div>"
      ],
      "text/plain": [
       "         Rating\n",
       "País           \n",
       "Mexico     1836\n",
       "USA        1546\n",
       "China      1503\n",
       "Belgium    1248\n",
       "Germany    1179"
      ]
     },
     "execution_count": 10,
     "metadata": {},
     "output_type": "execute_result"
    }
   ],
   "source": [
    "df_destinos.sort_values(by = 'Rating', ascending=False, inplace=True)\n",
    "df_destinos.head()"
   ]
  },
  {
   "cell_type": "markdown",
   "metadata": {},
   "source": [
    "### Plot destinos comerciales"
   ]
  },
  {
   "cell_type": "markdown",
   "metadata": {},
   "source": [
    "Seaborn plot"
   ]
  },
  {
   "cell_type": "code",
   "execution_count": 12,
   "metadata": {},
   "outputs": [
    {
     "ename": "ValueError",
     "evalue": "flare_r is not a valid palette name",
     "output_type": "error",
     "traceback": [
      "\u001b[1;31m---------------------------------------------------------------------------\u001b[0m",
      "\u001b[1;31mValueError\u001b[0m                                Traceback (most recent call last)",
      "\u001b[1;32mC:\\Anaconda\\lib\\site-packages\\seaborn\\palettes.py\u001b[0m in \u001b[0;36mcolor_palette\u001b[1;34m(palette, n_colors, desat)\u001b[0m\n\u001b[0;32m    229\u001b[0m                 \u001b[1;31m# Perhaps a named matplotlib colormap?\u001b[0m\u001b[1;33m\u001b[0m\u001b[1;33m\u001b[0m\u001b[1;33m\u001b[0m\u001b[0m\n\u001b[1;32m--> 230\u001b[1;33m                 \u001b[0mpalette\u001b[0m \u001b[1;33m=\u001b[0m \u001b[0mmpl_palette\u001b[0m\u001b[1;33m(\u001b[0m\u001b[0mpalette\u001b[0m\u001b[1;33m,\u001b[0m \u001b[0mn_colors\u001b[0m\u001b[1;33m)\u001b[0m\u001b[1;33m\u001b[0m\u001b[1;33m\u001b[0m\u001b[0m\n\u001b[0m\u001b[0;32m    231\u001b[0m             \u001b[1;32mexcept\u001b[0m \u001b[0mValueError\u001b[0m\u001b[1;33m:\u001b[0m\u001b[1;33m\u001b[0m\u001b[1;33m\u001b[0m\u001b[0m\n",
      "\u001b[1;32mC:\\Anaconda\\lib\\site-packages\\seaborn\\palettes.py\u001b[0m in \u001b[0;36mmpl_palette\u001b[1;34m(name, n_colors)\u001b[0m\n\u001b[0;32m    453\u001b[0m     \u001b[1;32melse\u001b[0m\u001b[1;33m:\u001b[0m\u001b[1;33m\u001b[0m\u001b[1;33m\u001b[0m\u001b[0m\n\u001b[1;32m--> 454\u001b[1;33m         \u001b[0mcmap\u001b[0m \u001b[1;33m=\u001b[0m \u001b[0mmpl\u001b[0m\u001b[1;33m.\u001b[0m\u001b[0mcm\u001b[0m\u001b[1;33m.\u001b[0m\u001b[0mget_cmap\u001b[0m\u001b[1;33m(\u001b[0m\u001b[0mname\u001b[0m\u001b[1;33m)\u001b[0m\u001b[1;33m\u001b[0m\u001b[1;33m\u001b[0m\u001b[0m\n\u001b[0m\u001b[0;32m    455\u001b[0m         \u001b[1;32mif\u001b[0m \u001b[0mcmap\u001b[0m \u001b[1;32mis\u001b[0m \u001b[1;32mNone\u001b[0m\u001b[1;33m:\u001b[0m\u001b[1;33m\u001b[0m\u001b[1;33m\u001b[0m\u001b[0m\n",
      "\u001b[1;32mC:\\Anaconda\\lib\\site-packages\\matplotlib\\cm.py\u001b[0m in \u001b[0;36mget_cmap\u001b[1;34m(name, lut)\u001b[0m\n\u001b[0;32m    133\u001b[0m         \u001b[1;32mreturn\u001b[0m \u001b[0mname\u001b[0m\u001b[1;33m\u001b[0m\u001b[1;33m\u001b[0m\u001b[0m\n\u001b[1;32m--> 134\u001b[1;33m     \u001b[0mcbook\u001b[0m\u001b[1;33m.\u001b[0m\u001b[0m_check_in_list\u001b[0m\u001b[1;33m(\u001b[0m\u001b[0msorted\u001b[0m\u001b[1;33m(\u001b[0m\u001b[0mcmap_d\u001b[0m\u001b[1;33m)\u001b[0m\u001b[1;33m,\u001b[0m \u001b[0mname\u001b[0m\u001b[1;33m=\u001b[0m\u001b[0mname\u001b[0m\u001b[1;33m)\u001b[0m\u001b[1;33m\u001b[0m\u001b[1;33m\u001b[0m\u001b[0m\n\u001b[0m\u001b[0;32m    135\u001b[0m     \u001b[1;32mif\u001b[0m \u001b[0mlut\u001b[0m \u001b[1;32mis\u001b[0m \u001b[1;32mNone\u001b[0m\u001b[1;33m:\u001b[0m\u001b[1;33m\u001b[0m\u001b[1;33m\u001b[0m\u001b[0m\n",
      "\u001b[1;32mC:\\Anaconda\\lib\\site-packages\\matplotlib\\cbook\\__init__.py\u001b[0m in \u001b[0;36m_check_in_list\u001b[1;34m(_values, **kwargs)\u001b[0m\n\u001b[0;32m   2142\u001b[0m         \u001b[1;32mif\u001b[0m \u001b[0mv\u001b[0m \u001b[1;32mnot\u001b[0m \u001b[1;32min\u001b[0m \u001b[0mvalues\u001b[0m\u001b[1;33m:\u001b[0m\u001b[1;33m\u001b[0m\u001b[1;33m\u001b[0m\u001b[0m\n\u001b[1;32m-> 2143\u001b[1;33m             raise ValueError(\n\u001b[0m\u001b[0;32m   2144\u001b[0m                 \u001b[1;34m\"{!r} is not a valid value for {}; supported values are {}\"\u001b[0m\u001b[1;33m\u001b[0m\u001b[1;33m\u001b[0m\u001b[0m\n",
      "\u001b[1;31mValueError\u001b[0m: 'flare_r' is not a valid value for name; supported values are 'Accent', 'Accent_r', 'Blues', 'Blues_r', 'BrBG', 'BrBG_r', 'BuGn', 'BuGn_r', 'BuPu', 'BuPu_r', 'CMRmap', 'CMRmap_r', 'Dark2', 'Dark2_r', 'GnBu', 'GnBu_r', 'Greens', 'Greens_r', 'Greys', 'Greys_r', 'OrRd', 'OrRd_r', 'Oranges', 'Oranges_r', 'PRGn', 'PRGn_r', 'Paired', 'Paired_r', 'Pastel1', 'Pastel1_r', 'Pastel2', 'Pastel2_r', 'PiYG', 'PiYG_r', 'PuBu', 'PuBuGn', 'PuBuGn_r', 'PuBu_r', 'PuOr', 'PuOr_r', 'PuRd', 'PuRd_r', 'Purples', 'Purples_r', 'RdBu', 'RdBu_r', 'RdGy', 'RdGy_r', 'RdPu', 'RdPu_r', 'RdYlBu', 'RdYlBu_r', 'RdYlGn', 'RdYlGn_r', 'Reds', 'Reds_r', 'Set1', 'Set1_r', 'Set2', 'Set2_r', 'Set3', 'Set3_r', 'Spectral', 'Spectral_r', 'Wistia', 'Wistia_r', 'YlGn', 'YlGnBu', 'YlGnBu_r', 'YlGn_r', 'YlOrBr', 'YlOrBr_r', 'YlOrRd', 'YlOrRd_r', 'afmhot', 'afmhot_r', 'autumn', 'autumn_r', 'binary', 'binary_r', 'bone', 'bone_r', 'brg', 'brg_r', 'bwr', 'bwr_r', 'cividis', 'cividis_r', 'cool', 'cool_r', 'coolwarm', 'coolwarm_r', 'copper', 'copper_r', 'cubehelix', 'cubehelix_r', 'flag', 'flag_r', 'gist_earth', 'gist_earth_r', 'gist_gray', 'gist_gray_r', 'gist_heat', 'gist_heat_r', 'gist_ncar', 'gist_ncar_r', 'gist_rainbow', 'gist_rainbow_r', 'gist_stern', 'gist_stern_r', 'gist_yarg', 'gist_yarg_r', 'gnuplot', 'gnuplot2', 'gnuplot2_r', 'gnuplot_r', 'gray', 'gray_r', 'hot', 'hot_r', 'hsv', 'hsv_r', 'icefire', 'icefire_r', 'inferno', 'inferno_r', 'jet', 'jet_r', 'magma', 'magma_r', 'mako', 'mako_r', 'nipy_spectral', 'nipy_spectral_r', 'ocean', 'ocean_r', 'pink', 'pink_r', 'plasma', 'plasma_r', 'prism', 'prism_r', 'rainbow', 'rainbow_r', 'rocket', 'rocket_r', 'seismic', 'seismic_r', 'spring', 'spring_r', 'summer', 'summer_r', 'tab10', 'tab10_r', 'tab20', 'tab20_r', 'tab20b', 'tab20b_r', 'tab20c', 'tab20c_r', 'terrain', 'terrain_r', 'twilight', 'twilight_r', 'twilight_shifted', 'twilight_shifted_r', 'viridis', 'viridis_r', 'vlag', 'vlag_r', 'winter', 'winter_r'",
      "\nDuring handling of the above exception, another exception occurred:\n",
      "\u001b[1;31mValueError\u001b[0m                                Traceback (most recent call last)",
      "\u001b[1;32m<ipython-input-12-a8fd72ba6ba9>\u001b[0m in \u001b[0;36m<module>\u001b[1;34m\u001b[0m\n\u001b[0;32m      1\u001b[0m \u001b[0mplt\u001b[0m\u001b[1;33m.\u001b[0m\u001b[0mfigure\u001b[0m\u001b[1;33m(\u001b[0m\u001b[0mfigsize\u001b[0m\u001b[1;33m=\u001b[0m\u001b[1;33m(\u001b[0m\u001b[1;36m45\u001b[0m\u001b[1;33m,\u001b[0m\u001b[1;36m12\u001b[0m\u001b[1;33m)\u001b[0m\u001b[1;33m)\u001b[0m\u001b[1;33m\u001b[0m\u001b[1;33m\u001b[0m\u001b[0m\n\u001b[1;32m----> 2\u001b[1;33m sns.barplot(\n\u001b[0m\u001b[0;32m      3\u001b[0m     \u001b[0mx\u001b[0m \u001b[1;33m=\u001b[0m \u001b[0mdf_destinos\u001b[0m\u001b[1;33m.\u001b[0m\u001b[0mindex\u001b[0m\u001b[1;33m,\u001b[0m\u001b[1;33m\u001b[0m\u001b[1;33m\u001b[0m\u001b[0m\n\u001b[0;32m      4\u001b[0m     \u001b[0my\u001b[0m \u001b[1;33m=\u001b[0m \u001b[0mdf_destinos\u001b[0m\u001b[1;33m[\u001b[0m\u001b[1;34m'Rating'\u001b[0m\u001b[1;33m]\u001b[0m\u001b[1;33m,\u001b[0m\u001b[1;33m\u001b[0m\u001b[1;33m\u001b[0m\u001b[0m\n\u001b[0;32m      5\u001b[0m     \u001b[0mpalette\u001b[0m\u001b[1;33m=\u001b[0m\u001b[0mpaleta\u001b[0m\u001b[1;33m\u001b[0m\u001b[1;33m\u001b[0m\u001b[0m\n",
      "\u001b[1;32mC:\\Anaconda\\lib\\site-packages\\seaborn\\categorical.py\u001b[0m in \u001b[0;36mbarplot\u001b[1;34m(x, y, hue, data, order, hue_order, estimator, ci, n_boot, units, seed, orient, color, palette, saturation, errcolor, errwidth, capsize, dodge, ax, **kwargs)\u001b[0m\n\u001b[0;32m   3142\u001b[0m             ax=None, **kwargs):\n\u001b[0;32m   3143\u001b[0m \u001b[1;33m\u001b[0m\u001b[0m\n\u001b[1;32m-> 3144\u001b[1;33m     plotter = _BarPlotter(x, y, hue, data, order, hue_order,\n\u001b[0m\u001b[0;32m   3145\u001b[0m                           \u001b[0mestimator\u001b[0m\u001b[1;33m,\u001b[0m \u001b[0mci\u001b[0m\u001b[1;33m,\u001b[0m \u001b[0mn_boot\u001b[0m\u001b[1;33m,\u001b[0m \u001b[0munits\u001b[0m\u001b[1;33m,\u001b[0m \u001b[0mseed\u001b[0m\u001b[1;33m,\u001b[0m\u001b[1;33m\u001b[0m\u001b[1;33m\u001b[0m\u001b[0m\n\u001b[0;32m   3146\u001b[0m                           \u001b[0morient\u001b[0m\u001b[1;33m,\u001b[0m \u001b[0mcolor\u001b[0m\u001b[1;33m,\u001b[0m \u001b[0mpalette\u001b[0m\u001b[1;33m,\u001b[0m \u001b[0msaturation\u001b[0m\u001b[1;33m,\u001b[0m\u001b[1;33m\u001b[0m\u001b[1;33m\u001b[0m\u001b[0m\n",
      "\u001b[1;32mC:\\Anaconda\\lib\\site-packages\\seaborn\\categorical.py\u001b[0m in \u001b[0;36m__init__\u001b[1;34m(self, x, y, hue, data, order, hue_order, estimator, ci, n_boot, units, seed, orient, color, palette, saturation, errcolor, errwidth, capsize, dodge)\u001b[0m\n\u001b[0;32m   1602\u001b[0m         self.establish_variables(x, y, hue, data, orient,\n\u001b[0;32m   1603\u001b[0m                                  order, hue_order, units)\n\u001b[1;32m-> 1604\u001b[1;33m         \u001b[0mself\u001b[0m\u001b[1;33m.\u001b[0m\u001b[0mestablish_colors\u001b[0m\u001b[1;33m(\u001b[0m\u001b[0mcolor\u001b[0m\u001b[1;33m,\u001b[0m \u001b[0mpalette\u001b[0m\u001b[1;33m,\u001b[0m \u001b[0msaturation\u001b[0m\u001b[1;33m)\u001b[0m\u001b[1;33m\u001b[0m\u001b[1;33m\u001b[0m\u001b[0m\n\u001b[0m\u001b[0;32m   1605\u001b[0m         \u001b[0mself\u001b[0m\u001b[1;33m.\u001b[0m\u001b[0mestimate_statistic\u001b[0m\u001b[1;33m(\u001b[0m\u001b[0mestimator\u001b[0m\u001b[1;33m,\u001b[0m \u001b[0mci\u001b[0m\u001b[1;33m,\u001b[0m \u001b[0mn_boot\u001b[0m\u001b[1;33m,\u001b[0m \u001b[0mseed\u001b[0m\u001b[1;33m)\u001b[0m\u001b[1;33m\u001b[0m\u001b[1;33m\u001b[0m\u001b[0m\n\u001b[0;32m   1606\u001b[0m \u001b[1;33m\u001b[0m\u001b[0m\n",
      "\u001b[1;32mC:\\Anaconda\\lib\\site-packages\\seaborn\\categorical.py\u001b[0m in \u001b[0;36mestablish_colors\u001b[1;34m(self, color, palette, saturation)\u001b[0m\n\u001b[0;32m    303\u001b[0m                 \u001b[0mpalette\u001b[0m \u001b[1;33m=\u001b[0m \u001b[1;33m[\u001b[0m\u001b[0mpalette\u001b[0m\u001b[1;33m[\u001b[0m\u001b[0ml\u001b[0m\u001b[1;33m]\u001b[0m \u001b[1;32mfor\u001b[0m \u001b[0ml\u001b[0m \u001b[1;32min\u001b[0m \u001b[0mlevels\u001b[0m\u001b[1;33m]\u001b[0m\u001b[1;33m\u001b[0m\u001b[1;33m\u001b[0m\u001b[0m\n\u001b[0;32m    304\u001b[0m \u001b[1;33m\u001b[0m\u001b[0m\n\u001b[1;32m--> 305\u001b[1;33m             \u001b[0mcolors\u001b[0m \u001b[1;33m=\u001b[0m \u001b[0mcolor_palette\u001b[0m\u001b[1;33m(\u001b[0m\u001b[0mpalette\u001b[0m\u001b[1;33m,\u001b[0m \u001b[0mn_colors\u001b[0m\u001b[1;33m)\u001b[0m\u001b[1;33m\u001b[0m\u001b[1;33m\u001b[0m\u001b[0m\n\u001b[0m\u001b[0;32m    306\u001b[0m \u001b[1;33m\u001b[0m\u001b[0m\n\u001b[0;32m    307\u001b[0m         \u001b[1;31m# Desaturate a bit because these are patches\u001b[0m\u001b[1;33m\u001b[0m\u001b[1;33m\u001b[0m\u001b[1;33m\u001b[0m\u001b[0m\n",
      "\u001b[1;32mC:\\Anaconda\\lib\\site-packages\\seaborn\\palettes.py\u001b[0m in \u001b[0;36mcolor_palette\u001b[1;34m(palette, n_colors, desat)\u001b[0m\n\u001b[0;32m    230\u001b[0m                 \u001b[0mpalette\u001b[0m \u001b[1;33m=\u001b[0m \u001b[0mmpl_palette\u001b[0m\u001b[1;33m(\u001b[0m\u001b[0mpalette\u001b[0m\u001b[1;33m,\u001b[0m \u001b[0mn_colors\u001b[0m\u001b[1;33m)\u001b[0m\u001b[1;33m\u001b[0m\u001b[1;33m\u001b[0m\u001b[0m\n\u001b[0;32m    231\u001b[0m             \u001b[1;32mexcept\u001b[0m \u001b[0mValueError\u001b[0m\u001b[1;33m:\u001b[0m\u001b[1;33m\u001b[0m\u001b[1;33m\u001b[0m\u001b[0m\n\u001b[1;32m--> 232\u001b[1;33m                 \u001b[1;32mraise\u001b[0m \u001b[0mValueError\u001b[0m\u001b[1;33m(\u001b[0m\u001b[1;34m\"%s is not a valid palette name\"\u001b[0m \u001b[1;33m%\u001b[0m \u001b[0mpalette\u001b[0m\u001b[1;33m)\u001b[0m\u001b[1;33m\u001b[0m\u001b[1;33m\u001b[0m\u001b[0m\n\u001b[0m\u001b[0;32m    233\u001b[0m \u001b[1;33m\u001b[0m\u001b[0m\n\u001b[0;32m    234\u001b[0m     \u001b[1;32mif\u001b[0m \u001b[0mdesat\u001b[0m \u001b[1;32mis\u001b[0m \u001b[1;32mnot\u001b[0m \u001b[1;32mNone\u001b[0m\u001b[1;33m:\u001b[0m\u001b[1;33m\u001b[0m\u001b[1;33m\u001b[0m\u001b[0m\n",
      "\u001b[1;31mValueError\u001b[0m: flare_r is not a valid palette name"
     ]
    },
    {
     "data": {
      "text/plain": [
       "<Figure size 3240x864 with 0 Axes>"
      ]
     },
     "metadata": {},
     "output_type": "display_data"
    }
   ],
   "source": [
    "plt.figure(figsize=(45,12))\n",
    "sns.barplot(\n",
    "    x = df_destinos.index, \n",
    "    y = df_destinos['Rating'],\n",
    "    palette=paleta\n",
    "    )\n",
    "plt.title('Destinos comerciales mas populares', fontdict={'fontsize':25})\n",
    "plt.xlabel('País')\n",
    "plt.ylabel('Valor')\n",
    "plt.show()\n"
   ]
  },
  {
   "cell_type": "markdown",
   "metadata": {},
   "source": [
    "Plotly plot"
   ]
  },
  {
   "cell_type": "code",
   "execution_count": null,
   "metadata": {},
   "outputs": [],
   "source": [
    "fig1 = px.bar(df_destinos, x = df_destinos.index, y = 'Rating', title='Destinos comerciales mas populares')\n",
    "fig1.show()"
   ]
  },
  {
   "cell_type": "markdown",
   "metadata": {},
   "source": [
    "Plotly pieplot"
   ]
  },
  {
   "cell_type": "code",
   "execution_count": null,
   "metadata": {},
   "outputs": [],
   "source": [
    "fig = px.pie(df_destinos, values='Rating', names=df_destinos.index, title='Composición (%) de los destinos comerciales mas populares')\n",
    "fig.update_traces(textposition='inside')\n",
    "# fig.update_layout(uniformtext_minsize=12, uniformtext_mode='hide')\n",
    "fig.show()"
   ]
  },
  {
   "cell_type": "markdown",
   "metadata": {},
   "source": [
    "## Destinos comerciales por importación y exportación"
   ]
  },
  {
   "cell_type": "markdown",
   "metadata": {},
   "source": [
    "Filtramos las importaciones y exportaciones en dos df diferentes"
   ]
  },
  {
   "cell_type": "code",
   "execution_count": null,
   "metadata": {},
   "outputs": [],
   "source": [
    "df_Exports = df[df['direction'] == 'Exports']\n",
    "df_Imports = df[df['direction'] == 'Imports']"
   ]
  },
  {
   "cell_type": "code",
   "execution_count": null,
   "metadata": {},
   "outputs": [],
   "source": [
    "exports_array = []\n",
    "[exports_array.append([country,df_Exports[df_Exports['destination'] == country].destination.count()]) for country in df['destination'].unique()]\n",
    "print(exports_array)"
   ]
  },
  {
   "cell_type": "code",
   "execution_count": null,
   "metadata": {},
   "outputs": [],
   "source": [
    "imports_array = []\n",
    "[imports_array.append([country, df_Imports[df_Imports['destination'] == country].destination.count()]) for country in df['destination'].unique()]\n",
    "print(imports_array)"
   ]
  },
  {
   "cell_type": "markdown",
   "metadata": {},
   "source": [
    "Hacer el array un df"
   ]
  },
  {
   "cell_type": "code",
   "execution_count": null,
   "metadata": {},
   "outputs": [],
   "source": [
    "df_Imports_ranking = pd.DataFrame(data = imports_array, columns=['País', 'Raiking'])\n",
    "df_Imports_ranking.set_index('País', inplace=True)\n",
    "df_Imports_ranking.head()"
   ]
  },
  {
   "cell_type": "code",
   "execution_count": null,
   "metadata": {},
   "outputs": [],
   "source": [
    "df_Exports_ranking = pd.DataFrame(data = exports_array, columns=['País', 'Raiking'])\n",
    "df_Exports_ranking.set_index('País', inplace=True)\n",
    "df_Exports_ranking.head()"
   ]
  },
  {
   "cell_type": "markdown",
   "metadata": {},
   "source": [
    "Ordenamiento de valores"
   ]
  },
  {
   "cell_type": "code",
   "execution_count": null,
   "metadata": {},
   "outputs": [],
   "source": [
    "df_Exports_ranking.sort_values(by='Raiking', ascending=False, inplace = True)\n",
    "df_Imports_ranking.sort_values(by='Raiking', ascending=False, inplace = True)"
   ]
  },
  {
   "cell_type": "code",
   "execution_count": null,
   "metadata": {},
   "outputs": [],
   "source": [
    "display(df_Exports_ranking)"
   ]
  },
  {
   "cell_type": "code",
   "execution_count": null,
   "metadata": {},
   "outputs": [],
   "source": [
    "display(df_Imports_ranking)"
   ]
  },
  {
   "cell_type": "markdown",
   "metadata": {},
   "source": [
    "Filtrado de paises"
   ]
  },
  {
   "cell_type": "code",
   "execution_count": null,
   "metadata": {},
   "outputs": [],
   "source": [
    "df_Imports_ranking.iloc[:10]"
   ]
  },
  {
   "cell_type": "code",
   "execution_count": null,
   "metadata": {},
   "outputs": [],
   "source": [
    "df_Exports_ranking.iloc[:10]"
   ]
  },
  {
   "cell_type": "markdown",
   "metadata": {},
   "source": [
    "### Plot TOP países Importaciones"
   ]
  },
  {
   "cell_type": "markdown",
   "metadata": {},
   "source": [
    "Seaborn plot"
   ]
  },
  {
   "cell_type": "code",
   "execution_count": null,
   "metadata": {},
   "outputs": [],
   "source": [
    "plt.figure(figsize=(20, 8))\n",
    "sns.barplot(\n",
    "    x = df_Imports_ranking.iloc[:10].index,\n",
    "    y = df_Imports_ranking['Raiking'].iloc[:10],\n",
    "    palette = paleta\n",
    ")\n",
    "plt.title('Países con mayor cantidad de importaciones', fontdict={'fontsize':15})\n",
    "plt.xlabel('Países')\n",
    "plt.ylabel('Valores')\n",
    "plt.show()"
   ]
  },
  {
   "cell_type": "markdown",
   "metadata": {},
   "source": [
    "plotly plot"
   ]
  },
  {
   "cell_type": "code",
   "execution_count": null,
   "metadata": {},
   "outputs": [],
   "source": [
    "fig1 = px.bar(\n",
    "    x = df_Imports_ranking.iloc[:10].index, \n",
    "    y = df_Imports_ranking['Raiking'].iloc[:10], \n",
    "    title='Países con mayor cantidad de importaciones'\n",
    "    )\n",
    "fig1.show()"
   ]
  },
  {
   "cell_type": "markdown",
   "metadata": {},
   "source": [
    "### Plot TOP países Exportaciones"
   ]
  },
  {
   "cell_type": "markdown",
   "metadata": {},
   "source": [
    "Seaborn plot"
   ]
  },
  {
   "cell_type": "code",
   "execution_count": null,
   "metadata": {},
   "outputs": [],
   "source": [
    "plt.figure(figsize=(20,8))\n",
    "sns.barplot(\n",
    "    x = df_Exports_ranking.iloc[:10].index, \n",
    "    y = df_Exports_ranking['Raiking'].iloc[:10], \n",
    "    palette=paleta\n",
    ")\n",
    "plt.title('Países con mayor cantidad de exportaciones')\n",
    "plt.xlabel('Países')\n",
    "plt.ylabel('Valores')\n",
    "plt.show()"
   ]
  },
  {
   "cell_type": "markdown",
   "metadata": {},
   "source": [
    "Plotly plot"
   ]
  },
  {
   "cell_type": "code",
   "execution_count": null,
   "metadata": {},
   "outputs": [],
   "source": [
    "fig1 = px.bar(\n",
    "    x = df_Exports_ranking.iloc[:10].index, \n",
    "    y = df_Exports_ranking['Raiking'].iloc[:10],\n",
    "    title='Países con mayor cantidad de exportaciones'\n",
    ")\n",
    "fig1.show()"
   ]
  },
  {
   "cell_type": "markdown",
   "metadata": {},
   "source": [
    "# Transportes mas usados"
   ]
  },
  {
   "cell_type": "markdown",
   "metadata": {},
   "source": [
    "## Preparando la información"
   ]
  },
  {
   "cell_type": "markdown",
   "metadata": {},
   "source": [
    "Buscamos la forma:\n",
    "\n",
    "\n",
    "[country, imports, exports]"
   ]
  },
  {
   "cell_type": "code",
   "execution_count": null,
   "metadata": {},
   "outputs": [],
   "source": [
    "array_trans_raiking = []\n",
    "for country in df['transport_mode'].unique():\n",
    "    imports = df[(df['transport_mode'] == country) & (df['direction'] == 'Imports')].direction.count()\n",
    "    exports = df[(df['transport_mode'] == country) & (df['direction'] == 'Exports')].direction.count()\n",
    "    array_trans_raiking.append([country, [imports, exports]])\n",
    "print(array_trans_raiking)"
   ]
  },
  {
   "cell_type": "code",
   "execution_count": null,
   "metadata": {},
   "outputs": [],
   "source": [
    "df_trans_mas_usados = pd.DataFrame(dict(array_trans_raiking), index=['Importaciones', 'Exportaciones']).transpose()\n",
    "display(df_trans_mas_usados)"
   ]
  },
  {
   "cell_type": "code",
   "execution_count": null,
   "metadata": {},
   "outputs": [],
   "source": [
    "array_top_tran_x = []\n",
    "array_top_tran_m = []\n",
    "for trans_mode in df['transport_mode'].unique():\n",
    "    array_top_tran_x.append([trans_mode, df[(df['transport_mode'] == trans_mode) & (df['direction'] == 'Exports')].total_value.sum()])\n",
    "    array_top_tran_m.append([trans_mode, df[(df['transport_mode'] == trans_mode) & (df['direction'] == 'Imports')].total_value.sum()])\n",
    "\n",
    "print(array_top_tran_m)\n",
    "print(array_top_tran_x)"
   ]
  },
  {
   "cell_type": "code",
   "execution_count": null,
   "metadata": {},
   "outputs": [],
   "source": [
    "series1 = pd.Series(dict(array_top_tran_m), name = 'Total_Importaciones')\n",
    "series2 = pd.Series(dict(array_top_tran_x), name = 'Total_Exportaciones')\n",
    "df_trans_value = pd.concat([series1, series2], axis=1)\n",
    "display(df_trans_value)"
   ]
  },
  {
   "cell_type": "markdown",
   "metadata": {},
   "source": [
    "## Plot medios mas usados (importaciones)"
   ]
  },
  {
   "cell_type": "code",
   "execution_count": null,
   "metadata": {},
   "outputs": [],
   "source": [
    "plt.figure(figsize=(10,7))\n",
    "sns.barplot(\n",
    "    x = df_trans_mas_usados.index, \n",
    "    y = df_trans_mas_usados['Importaciones'],\n",
    "    palette = paleta\n",
    "    )\n",
    "plt.title('Medios de transporte mas demandados (importaciones)',  fontdict = {'fontsize' : 15})\n",
    "plt.xlabel('Medios de transporte')\n",
    "plt.ylabel('Volumen')\n",
    "plt.show()"
   ]
  },
  {
   "cell_type": "markdown",
   "metadata": {},
   "source": [
    "## Plot medios mas usados (exportaciones)"
   ]
  },
  {
   "cell_type": "code",
   "execution_count": null,
   "metadata": {},
   "outputs": [],
   "source": [
    "plt.figure(figsize=(10,7))\n",
    "sns.barplot(\n",
    "    x = df_trans_mas_usados.index, \n",
    "    y = df_trans_mas_usados['Exportaciones'],\n",
    "    palette = paleta\n",
    "    )\n",
    "plt.title('Medios de transporte mas demandados (exportaciones)',  fontdict = {'fontsize' : 15})\n",
    "plt.xlabel('Medios de transporte')\n",
    "plt.ylabel('Volumen')\n",
    "plt.show()"
   ]
  },
  {
   "cell_type": "markdown",
   "metadata": {},
   "source": [
    "## Plot medios de transporte mas usados (valor total de importaciones y exportación)"
   ]
  },
  {
   "cell_type": "code",
   "execution_count": null,
   "metadata": {},
   "outputs": [],
   "source": [
    "plt.figure(figsize=(10,7))\n",
    "sns.barplot(\n",
    "    x = df['transport_mode'], \n",
    "    y = df['total_value'],\n",
    "    palette = paleta\n",
    "    )\n",
    "plt.title('Medios de transporte mas demandados  según valor del producto',  fontdict = {'fontsize' : 15})\n",
    "plt.xlabel('Destinos')\n",
    "plt.ylabel('Volumen')\n",
    "plt.show()"
   ]
  },
  {
   "cell_type": "code",
   "execution_count": null,
   "metadata": {},
   "outputs": [],
   "source": [
    "plt.figure(figsize=(10,7))\n",
    "sns.barplot(\n",
    "    x = df['transport_mode'], \n",
    "    y = df['total_value'], \n",
    "    hue = df['direction'],\n",
    "    order= ['Air', 'Rail', 'Sea', 'Road'],\n",
    "    palette = paleta\n",
    "    )\n",
    "plt.title('Medios de transporte mas demandados',  fontdict = {'fontsize' : 15})\n",
    "plt.xlabel('Destinos')\n",
    "plt.ylabel('Volumen')\n",
    "plt.show()"
   ]
  },
  {
   "cell_type": "code",
   "execution_count": null,
   "metadata": {},
   "outputs": [],
   "source": [
    "array_top_tran_x = []\n",
    "array_top_tran_m = []\n",
    "for trans_mode in df['transport_mode'].unique():\n",
    "    array_top_tran_x.append([trans_mode, df[(df['transport_mode'] == trans_mode) & (df['direction'] == 'Exports')].total_value.sum()])\n",
    "    array_top_tran_m.append([trans_mode, df[(df['transport_mode'] == trans_mode) & (df['direction'] == 'Imports')].total_value.sum()])\n",
    "\n",
    "print(array_top_tran_m)\n",
    "print(array_top_tran_x)"
   ]
  },
  {
   "cell_type": "code",
   "execution_count": null,
   "metadata": {},
   "outputs": [],
   "source": [
    "plt.figure(figsize=(10,7))\n",
    "sns.catplot(\n",
    "    data=df, \n",
    "    x = 'year', \n",
    "    hue = 'transport_mode', \n",
    "    kind = 'count',\n",
    "    height=6,\n",
    "    aspect=1.5,\n",
    "    palette=paleta\n",
    "    )\n",
    "plt.title('Transportes mas demandados por año', fontdict={'fontsize':15})\n",
    "plt.xlabel('Año')\n",
    "plt.ylabel('Cantidad')\n",
    "plt.show()"
   ]
  },
  {
   "cell_type": "markdown",
   "metadata": {},
   "source": [
    "# Países que mas importan y exportan"
   ]
  },
  {
   "cell_type": "markdown",
   "metadata": {},
   "source": [
    "## Preparando la información"
   ]
  },
  {
   "cell_type": "markdown",
   "metadata": {},
   "source": [
    "Realizamos un filtrado donde unicamente nos muestre un unico país en caracter de importador o exportador, posteriormente accedemos a la columna [total_value] la cual contiene el valor de las importaciones y exportaciones individuales del país seleccionado. Finalmente, usamos la función [sum()] para calcular la suma de la columna [total_value] que nos reflejará el valor total de las importaciones o exportaciones para el país elegido. \n",
    "La operación anterior se puede llevar a cabo con el comando: \n",
    "\n",
    "\n",
    "- df[(df['destination'] == 'China') & (df['direction'] == 'Imports')].total_value.sum()\n",
    "- df[(df['destination'] == 'China') & (df['direction'] == 'Exports')].total_value.sum()\n",
    "\n",
    "\n",
    "que tiene la forma general de realizar un filtrado con condiciones multiples de pandas [df[(*condición1*) & (*condición2*) & ... (*condición_n*)]] el cual arrojará un valor que posteriormente almacenaremos en una lista junto con el nombre del país correspondiente, resultando la forma:\n",
    "\n",
    "- array_país_importación[['país1', *valor_total_exportaciones_país1*], ['país2', *valor_total_exportaciones_país2*], ... ['país_n', *valor_total_exportaciones_país_n*]]\n",
    "\n"
   ]
  },
  {
   "cell_type": "code",
   "execution_count": null,
   "metadata": {},
   "outputs": [],
   "source": [
    "df[(df['destination'] == 'China') & (df['direction'] == 'Exports')].total_value.sum()"
   ]
  },
  {
   "cell_type": "code",
   "execution_count": null,
   "metadata": {},
   "outputs": [],
   "source": [
    "array_pais_importacion = []\n",
    "[array_pais_importacion.append([country, df[(df['destination'] == country) & (df['direction'] == 'Imports')].total_value.sum()]) for country in df['destination'].unique()]\n",
    "print(array_pais_importacion)"
   ]
  },
  {
   "cell_type": "code",
   "execution_count": null,
   "metadata": {},
   "outputs": [],
   "source": [
    "array_pais_exportacion = []\n",
    "[array_pais_exportacion.append([country, df[(df['destination'] == country) & (df['direction'] == 'Exports')].total_value.sum()]) for country in df['destination'].unique()]\n",
    "print(array_pais_exportacion)"
   ]
  },
  {
   "cell_type": "code",
   "execution_count": null,
   "metadata": {},
   "outputs": [],
   "source": [
    "array_pais_total = []\n",
    "[array_pais_total.append([country, df[df['destination'] == country].total_value.sum()]) for country in df.destination.unique()]\n",
    "print(array_pais_total)"
   ]
  },
  {
   "cell_type": "code",
   "execution_count": null,
   "metadata": {},
   "outputs": [],
   "source": [
    "series1 = pd.Series(dict(array_pais_exportacion), name='Exportaciones')\n",
    "series2 = pd.Series(dict(array_pais_importacion), name = 'Importaciones')\n",
    "series3 = pd.Series(dict(array_pais_total), name = 'Total')\n",
    "df_paises_raiting = pd.concat([series1, series2, series3], axis=1)\n",
    "display(df_paises_raiting)"
   ]
  },
  {
   "cell_type": "markdown",
   "metadata": {},
   "source": [
    "## Países con mayor valor de importaciones"
   ]
  },
  {
   "cell_type": "code",
   "execution_count": null,
   "metadata": {},
   "outputs": [],
   "source": [
    "plt.figure(figsize=(15,7))\n",
    "sns.barplot(\n",
    "    x = df_paises_raiting.sort_values(by='Importaciones', ascending=False).iloc[:10].index, \n",
    "    y = df_paises_raiting.sort_values(by = 'Importaciones', ascending=False).iloc[:10].Importaciones,\n",
    "    palette = paleta\n",
    ")\n",
    "plt.title('Países con mayor valor total en importaciones', fontdict={'fontsize':15})\n",
    "plt.xlabel('Países')\n",
    "plt.ylabel('Valor total de importaciones')\n",
    "plt.show()"
   ]
  },
  {
   "cell_type": "markdown",
   "metadata": {},
   "source": [
    "## Países con mayor valor de Exportación "
   ]
  },
  {
   "cell_type": "code",
   "execution_count": null,
   "metadata": {},
   "outputs": [],
   "source": [
    "plt.figure(figsize=(15,7))\n",
    "sns.barplot(\n",
    "    x = df_paises_raiting.sort_values(by='Exportaciones', ascending=False).iloc[:10].index, \n",
    "    y = df_paises_raiting.sort_values(by = 'Exportaciones', ascending=False).iloc[:10].Exportaciones,\n",
    "    palette = paleta\n",
    ")\n",
    "plt.title('Países con mayor valor total en Exportaciones', fontdict={'fontsize':15})\n",
    "plt.xlabel('Países')\n",
    "plt.ylabel('Valor total de Exportaciones')\n",
    "plt.show()"
   ]
  },
  {
   "cell_type": "code",
   "execution_count": null,
   "metadata": {},
   "outputs": [],
   "source": [
    "plt.figure(figsize=(15,7))\n",
    "sns.barplot(\n",
    "    x = df_paises_raiting.sort_values(by='Total', ascending=False).iloc[:10].index, \n",
    "    y = df_paises_raiting.sort_values(by = 'Total', ascending=False).iloc[:10].Total,\n",
    "    palette = paleta\n",
    ")\n",
    "plt.title('Países con mayor valor en importaciones y exportaciones', fontdict={'fontsize':15})\n",
    "plt.xlabel('Países')\n",
    "plt.ylabel('Valor total de Exportaciones')\n",
    "plt.show()"
   ]
  },
  {
   "cell_type": "markdown",
   "metadata": {},
   "source": [
    "# Consolidado"
   ]
  },
  {
   "cell_type": "code",
   "execution_count": null,
   "metadata": {},
   "outputs": [],
   "source": [
    "fig, ax = plt.subplots(figsize = (20, 20))\n",
    "\n",
    "ax1 = plt.subplot2grid(shape=(3,3), loc=(0,0))  \n",
    "ax2 = plt.subplot2grid(shape=(3,3), loc=(0,1))\n",
    "ax3 = plt.subplot2grid(shape=(3,3), loc=(1,0))\n",
    "ax4 = plt.subplot2grid(shape=(3,3), loc=(1,1))\n",
    "ax5 = plt.subplot2grid(shape=(3,3), loc=(2,0), colspan=2)\n",
    "\n",
    "ax1.pie(\n",
    "    labels = df_trans_mas_usados.index, \n",
    "    x = df_trans_mas_usados['Importaciones'],\n",
    "    colors = colors2, autopct='%.0f%%', explode=(0.1, 0, 0, 0)\n",
    ")\n",
    "ax1.set_title('Más demandados (importaciones)')\n",
    "\n",
    "ax2.pie(\n",
    "    labels = df_trans_mas_usados.index, \n",
    "    x = df_trans_mas_usados['Exportaciones'],\n",
    "    colors = colors2, autopct='%.0f%%', explode=(0.1, 0, 0, 0)\n",
    ")\n",
    "ax2.set_title('Más demandados (exportaciones)')\n",
    "\n",
    "ax3.pie(\n",
    "    labels = df_trans_value.index, \n",
    "    x = df_trans_value['Total_Importaciones'],\n",
    "    colors = colors2, autopct='%.0f%%', explode=(0.1, 0, 0, 0)\n",
    ")\n",
    "ax3.set_title('Más demandados según valor del producto (importaciones)')\n",
    "\n",
    "ax4.pie(\n",
    "    labels = df_trans_value.index, \n",
    "    x = df_trans_value['Total_Exportaciones'], \n",
    "    colors = colors2, autopct='%.0f%%', explode=(0.1, 0, 0, 0)\n",
    ")\n",
    "ax4.set_title('Más demandados según valor del producto (exportaciones)')\n",
    "\n",
    "ax5 = sns.barplot( \n",
    "    x = df['year'],\n",
    "    y = df['total_value'], \n",
    "    hue = df['transport_mode'],\n",
    "    palette=paleta\n",
    "    )\n",
    "ax5.set_title('Transportes mas demandados por año')"
   ]
  },
  {
   "cell_type": "code",
   "execution_count": null,
   "metadata": {},
   "outputs": [],
   "source": [
    "colors = sns.color_palette(paleta)\n",
    "colors2 = sns.color_palette('Reds')\n",
    "\n",
    "fig, ax = plt.subplots(figsize = (20, 20))\n",
    "\n",
    "\n",
    "ax1 = plt.subplot2grid(shape=(3, 3), loc=(1, 0))\n",
    "ax2 = plt.subplot2grid(shape=(3, 3), loc=(1, 1))\n",
    "ax3 = plt.subplot2grid(shape=(3, 3), loc=(0, 0), colspan=2)\n",
    "\n",
    "ax1.pie(\n",
    "    labels = df_paises_raiting.sort_values(by='Importaciones', ascending=False).iloc[:10].index, \n",
    "    x = df_paises_raiting.sort_values(by = 'Importaciones', ascending=False).iloc[:10].Importaciones, \n",
    "    colors = colors2, autopct='%.0f%%', explode=(0.1, 0, 0, 0, 0, 0, 0, 0, 0, 0)\n",
    "    )\n",
    "ax1.set_title('Países con mayor valor total en Importaciones')\n",
    "ax2.pie(\n",
    "    labels = df_paises_raiting.sort_values(by='Exportaciones', ascending=False).iloc[:10].index, \n",
    "    x = df_paises_raiting.sort_values(by = 'Exportaciones', ascending=False).iloc[:10].Exportaciones, \n",
    "    colors = colors2, autopct='%.0f%%', explode=(0.1, 0, 0, 0, 0, 0, 0, 0, 0, 0)\n",
    "    )\n",
    "ax2.set_title('Países con mayor valor total en Exportaciones')\n",
    "ax3 = sns.barplot(\n",
    "    x = df_paises_raiting.sort_values(by='Total', ascending=False).iloc[:10].index, \n",
    "    y = df_paises_raiting.sort_values(by = 'Total', ascending=False).iloc[:10].Total,\n",
    "    palette = paleta\n",
    "    )   \n",
    "ax3.set_title('Países con mayor valor en importaciones y exportaciones')\n",
    "\n",
    "plt.suptitle('Resumen', fontsize = 30, x = 0.37)"
   ]
  }
 ],
 "metadata": {
  "hide_input": false,
  "interpreter": {
   "hash": "c5a850a270f9429309f09d3d4e98263fc4c21a601267c834f9c9745619e5e8fa"
  },
  "kernelspec": {
   "display_name": "Python 3",
   "language": "python",
   "name": "python3"
  },
  "language_info": {
   "codemirror_mode": {
    "name": "ipython",
    "version": 3
   },
   "file_extension": ".py",
   "mimetype": "text/x-python",
   "name": "python",
   "nbconvert_exporter": "python",
   "pygments_lexer": "ipython3",
   "version": "3.8.3"
  },
  "toc": {
   "base_numbering": 1,
   "nav_menu": {},
   "number_sections": true,
   "sideBar": true,
   "skip_h1_title": false,
   "title_cell": "Table of Contents",
   "title_sidebar": "Contents",
   "toc_cell": false,
   "toc_position": {},
   "toc_section_display": true,
   "toc_window_display": false
  }
 },
 "nbformat": 4,
 "nbformat_minor": 2
}
