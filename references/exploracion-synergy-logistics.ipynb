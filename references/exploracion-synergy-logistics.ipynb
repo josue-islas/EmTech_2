{
 "cells": [
  {
   "cell_type": "markdown",
   "id": "961961f4-65c8-4f4f-afd3-75cbd12f4da2",
   "metadata": {},
   "source": [
    "# Exploración de Synergy Logistics DB"
   ]
  },
  {
   "cell_type": "code",
   "execution_count": 1,
   "id": "ef03a536-1c22-4948-aa46-e68724dd899a",
   "metadata": {},
   "outputs": [],
   "source": [
    "import pandas as pd\n",
    "pd.plotting.register_matplotlib_converters()\n",
    "import matplotlib.pyplot as plt\n",
    "%matplotlib inline\n",
    "import seaborn as sns\n",
    "\n",
    "filepath = '../data/synergy_logistics_database.csv'\n",
    "\n",
    "datos = pd.read_csv(filepath, index_col=\"register_id\")"
   ]
  },
  {
   "cell_type": "code",
   "execution_count": 2,
   "id": "10c2dda1-fd6f-449d-b167-3e9998b74636",
   "metadata": {},
   "outputs": [
    {
     "data": {
      "text/plain": "            direction origin destination  year      date product  \\\nregister_id                                                        \n1             Exports  Japan       China  2015  31/01/15    Cars   \n2             Exports  Japan       China  2015  01/02/15    Cars   \n3             Exports  Japan       China  2015  02/02/15    Cars   \n4             Exports  Japan       China  2015  03/02/15    Cars   \n5             Exports  Japan       China  2015  04/02/15    Cars   \n\n            transport_mode company_name  total_value  \nregister_id                                           \n1                      Sea        Honda     33000000  \n2                      Sea        Honda     16000000  \n3                      Sea        Honda     29000000  \n4                      Sea        Honda     14000000  \n5                      Sea        Honda     17000000  ",
      "text/html": "<div>\n<style scoped>\n    .dataframe tbody tr th:only-of-type {\n        vertical-align: middle;\n    }\n\n    .dataframe tbody tr th {\n        vertical-align: top;\n    }\n\n    .dataframe thead th {\n        text-align: right;\n    }\n</style>\n<table border=\"1\" class=\"dataframe\">\n  <thead>\n    <tr style=\"text-align: right;\">\n      <th></th>\n      <th>direction</th>\n      <th>origin</th>\n      <th>destination</th>\n      <th>year</th>\n      <th>date</th>\n      <th>product</th>\n      <th>transport_mode</th>\n      <th>company_name</th>\n      <th>total_value</th>\n    </tr>\n    <tr>\n      <th>register_id</th>\n      <th></th>\n      <th></th>\n      <th></th>\n      <th></th>\n      <th></th>\n      <th></th>\n      <th></th>\n      <th></th>\n      <th></th>\n    </tr>\n  </thead>\n  <tbody>\n    <tr>\n      <th>1</th>\n      <td>Exports</td>\n      <td>Japan</td>\n      <td>China</td>\n      <td>2015</td>\n      <td>31/01/15</td>\n      <td>Cars</td>\n      <td>Sea</td>\n      <td>Honda</td>\n      <td>33000000</td>\n    </tr>\n    <tr>\n      <th>2</th>\n      <td>Exports</td>\n      <td>Japan</td>\n      <td>China</td>\n      <td>2015</td>\n      <td>01/02/15</td>\n      <td>Cars</td>\n      <td>Sea</td>\n      <td>Honda</td>\n      <td>16000000</td>\n    </tr>\n    <tr>\n      <th>3</th>\n      <td>Exports</td>\n      <td>Japan</td>\n      <td>China</td>\n      <td>2015</td>\n      <td>02/02/15</td>\n      <td>Cars</td>\n      <td>Sea</td>\n      <td>Honda</td>\n      <td>29000000</td>\n    </tr>\n    <tr>\n      <th>4</th>\n      <td>Exports</td>\n      <td>Japan</td>\n      <td>China</td>\n      <td>2015</td>\n      <td>03/02/15</td>\n      <td>Cars</td>\n      <td>Sea</td>\n      <td>Honda</td>\n      <td>14000000</td>\n    </tr>\n    <tr>\n      <th>5</th>\n      <td>Exports</td>\n      <td>Japan</td>\n      <td>China</td>\n      <td>2015</td>\n      <td>04/02/15</td>\n      <td>Cars</td>\n      <td>Sea</td>\n      <td>Honda</td>\n      <td>17000000</td>\n    </tr>\n  </tbody>\n</table>\n</div>"
     },
     "execution_count": 2,
     "metadata": {},
     "output_type": "execute_result"
    }
   ],
   "source": [
    "datos.head()"
   ]
  },
  {
   "cell_type": "code",
   "execution_count": 3,
   "id": "d8d5489b-72cf-48d4-b5a6-d4a35320ce1d",
   "metadata": {},
   "outputs": [
    {
     "data": {
      "text/plain": "            direction    origin destination  year      date       product  \\\nregister_id                                                                 \n19052         Imports     Japan   Singapore  2020  27/06/20  Gas turbines   \n19053         Imports  Malaysia   Singapore  2020  28/06/20  Gas turbines   \n19054         Imports  Malaysia   Singapore  2020  29/06/20  Gas turbines   \n19055         Imports  Malaysia   Singapore  2020  30/06/20  Gas turbines   \n19056         Imports  Malaysia   Singapore  2020  01/07/20  Gas turbines   \n\n            transport_mode     company_name  total_value  \nregister_id                                               \n19052                  Sea  Union Energy Co      1000000  \n19053                  Sea  Union Energy Co      2000000  \n19054                  Sea  Union Energy Co     33000000  \n19055                  Sea  Union Energy Co     13000000  \n19056                  Sea  Union Energy Co     30000000  ",
      "text/html": "<div>\n<style scoped>\n    .dataframe tbody tr th:only-of-type {\n        vertical-align: middle;\n    }\n\n    .dataframe tbody tr th {\n        vertical-align: top;\n    }\n\n    .dataframe thead th {\n        text-align: right;\n    }\n</style>\n<table border=\"1\" class=\"dataframe\">\n  <thead>\n    <tr style=\"text-align: right;\">\n      <th></th>\n      <th>direction</th>\n      <th>origin</th>\n      <th>destination</th>\n      <th>year</th>\n      <th>date</th>\n      <th>product</th>\n      <th>transport_mode</th>\n      <th>company_name</th>\n      <th>total_value</th>\n    </tr>\n    <tr>\n      <th>register_id</th>\n      <th></th>\n      <th></th>\n      <th></th>\n      <th></th>\n      <th></th>\n      <th></th>\n      <th></th>\n      <th></th>\n      <th></th>\n    </tr>\n  </thead>\n  <tbody>\n    <tr>\n      <th>19052</th>\n      <td>Imports</td>\n      <td>Japan</td>\n      <td>Singapore</td>\n      <td>2020</td>\n      <td>27/06/20</td>\n      <td>Gas turbines</td>\n      <td>Sea</td>\n      <td>Union Energy Co</td>\n      <td>1000000</td>\n    </tr>\n    <tr>\n      <th>19053</th>\n      <td>Imports</td>\n      <td>Malaysia</td>\n      <td>Singapore</td>\n      <td>2020</td>\n      <td>28/06/20</td>\n      <td>Gas turbines</td>\n      <td>Sea</td>\n      <td>Union Energy Co</td>\n      <td>2000000</td>\n    </tr>\n    <tr>\n      <th>19054</th>\n      <td>Imports</td>\n      <td>Malaysia</td>\n      <td>Singapore</td>\n      <td>2020</td>\n      <td>29/06/20</td>\n      <td>Gas turbines</td>\n      <td>Sea</td>\n      <td>Union Energy Co</td>\n      <td>33000000</td>\n    </tr>\n    <tr>\n      <th>19055</th>\n      <td>Imports</td>\n      <td>Malaysia</td>\n      <td>Singapore</td>\n      <td>2020</td>\n      <td>30/06/20</td>\n      <td>Gas turbines</td>\n      <td>Sea</td>\n      <td>Union Energy Co</td>\n      <td>13000000</td>\n    </tr>\n    <tr>\n      <th>19056</th>\n      <td>Imports</td>\n      <td>Malaysia</td>\n      <td>Singapore</td>\n      <td>2020</td>\n      <td>01/07/20</td>\n      <td>Gas turbines</td>\n      <td>Sea</td>\n      <td>Union Energy Co</td>\n      <td>30000000</td>\n    </tr>\n  </tbody>\n</table>\n</div>"
     },
     "execution_count": 3,
     "metadata": {},
     "output_type": "execute_result"
    }
   ],
   "source": [
    "datos.tail()"
   ]
  },
  {
   "cell_type": "code",
   "execution_count": 4,
   "id": "c686aaba-bb61-4b8d-830c-3c475dca36e6",
   "metadata": {},
   "outputs": [
    {
     "name": "stdout",
     "output_type": "stream",
     "text": [
      "<class 'pandas.core.frame.DataFrame'>\n",
      "Int64Index: 19056 entries, 1 to 19056\n",
      "Data columns (total 9 columns):\n",
      " #   Column          Non-Null Count  Dtype \n",
      "---  ------          --------------  ----- \n",
      " 0   direction       19056 non-null  object\n",
      " 1   origin          19056 non-null  object\n",
      " 2   destination     19056 non-null  object\n",
      " 3   year            19056 non-null  int64 \n",
      " 4   date            19056 non-null  object\n",
      " 5   product         19056 non-null  object\n",
      " 6   transport_mode  19056 non-null  object\n",
      " 7   company_name    19056 non-null  object\n",
      " 8   total_value     19056 non-null  int64 \n",
      "dtypes: int64(2), object(7)\n",
      "memory usage: 1.5+ MB\n"
     ]
    }
   ],
   "source": [
    "datos.info()"
   ]
  },
  {
   "cell_type": "code",
   "execution_count": 5,
   "id": "befd332c-3acd-41bc-9bc3-ed2432afcceb",
   "metadata": {},
   "outputs": [
    {
     "data": {
      "text/plain": "               year   total_value\ncount  19056.000000  1.905600e+04\nmean    2017.496327  1.131881e+07\nstd        1.706975  1.536656e+07\nmin     2015.000000  0.000000e+00\n25%     2016.000000  6.400000e+04\n50%     2017.000000  5.000000e+06\n75%     2019.000000  1.600000e+07\nmax     2020.000000  2.850000e+08",
      "text/html": "<div>\n<style scoped>\n    .dataframe tbody tr th:only-of-type {\n        vertical-align: middle;\n    }\n\n    .dataframe tbody tr th {\n        vertical-align: top;\n    }\n\n    .dataframe thead th {\n        text-align: right;\n    }\n</style>\n<table border=\"1\" class=\"dataframe\">\n  <thead>\n    <tr style=\"text-align: right;\">\n      <th></th>\n      <th>year</th>\n      <th>total_value</th>\n    </tr>\n  </thead>\n  <tbody>\n    <tr>\n      <th>count</th>\n      <td>19056.000000</td>\n      <td>1.905600e+04</td>\n    </tr>\n    <tr>\n      <th>mean</th>\n      <td>2017.496327</td>\n      <td>1.131881e+07</td>\n    </tr>\n    <tr>\n      <th>std</th>\n      <td>1.706975</td>\n      <td>1.536656e+07</td>\n    </tr>\n    <tr>\n      <th>min</th>\n      <td>2015.000000</td>\n      <td>0.000000e+00</td>\n    </tr>\n    <tr>\n      <th>25%</th>\n      <td>2016.000000</td>\n      <td>6.400000e+04</td>\n    </tr>\n    <tr>\n      <th>50%</th>\n      <td>2017.000000</td>\n      <td>5.000000e+06</td>\n    </tr>\n    <tr>\n      <th>75%</th>\n      <td>2019.000000</td>\n      <td>1.600000e+07</td>\n    </tr>\n    <tr>\n      <th>max</th>\n      <td>2020.000000</td>\n      <td>2.850000e+08</td>\n    </tr>\n  </tbody>\n</table>\n</div>"
     },
     "execution_count": 5,
     "metadata": {},
     "output_type": "execute_result"
    }
   ],
   "source": [
    "datos.describe()"
   ]
  },
  {
   "cell_type": "code",
   "execution_count": 6,
   "id": "e3172c44-8ef4-47eb-aeae-5615d0f0f88b",
   "metadata": {},
   "outputs": [
    {
     "data": {
      "text/plain": "<seaborn.axisgrid.FacetGrid at 0x2db985d8520>"
     },
     "execution_count": 6,
     "metadata": {},
     "output_type": "execute_result"
    },
    {
     "data": {
      "text/plain": "<Figure size 1152x432 with 0 Axes>"
     },
     "metadata": {},
     "output_type": "display_data"
    },
    {
     "data": {
      "text/plain": "<Figure size 360x360 with 1 Axes>",
      "image/png": "[encoded data removed]"
     },
     "metadata": {
      "needs_background": "light"
     },
     "output_type": "display_data"
    }
   ],
   "source": [
    "# Estableces el ancho y alto de la figura\n",
    "plt.figure(figsize=(16,6))\n",
    "\n",
    "\n",
    "# Gráfico para los tipos de transporte\n",
    "sns.catplot(x='transport_mode', data=datos,kind='count')"
   ]
  },
  {
   "cell_type": "code",
   "execution_count": 7,
   "id": "56d989ef-02c1-4f63-9cb5-111b53534826",
   "metadata": {},
   "outputs": [
    {
     "data": {
      "text/plain": "<seaborn.axisgrid.FacetGrid at 0x2db985d8820>"
     },
     "execution_count": 7,
     "metadata": {},
     "output_type": "execute_result"
    },
    {
     "data": {
      "text/plain": "<Figure size 421.5x360 with 1 Axes>",
      "image/png": "[encoded data removed]"
     },
     "metadata": {
      "needs_background": "light"
     },
     "output_type": "display_data"
    }
   ],
   "source": [
    "# Gráfico para los tipos de transporte por año\n",
    "sns.catplot(x='transport_mode', data=datos, hue='year',kind='count')"
   ]
  },
  {
   "cell_type": "code",
   "execution_count": 8,
   "id": "99110ef8-7947-4b91-9c3c-3c0636838f61",
   "metadata": {},
   "outputs": [
    {
     "data": {
      "text/plain": "<seaborn.axisgrid.FacetGrid at 0x2db98713f10>"
     },
     "execution_count": 8,
     "metadata": {},
     "output_type": "execute_result"
    },
    {
     "data": {
      "text/plain": "<Figure size 447.125x360 with 1 Axes>",
      "image/png": "[encoded data removed]"
     },
     "metadata": {
      "needs_background": "light"
     },
     "output_type": "display_data"
    }
   ],
   "source": [
    "# Gráfico para los tipos de transporte por año\n",
    "sns.catplot(x='year', data=datos, hue='transport_mode',kind='count')"
   ]
  },
  {
   "cell_type": "code",
   "execution_count": 9,
   "id": "88186775-faa2-4b44-9afb-296fc9125a45",
   "metadata": {},
   "outputs": [
    {
     "data": {
      "text/plain": "array(['Japan', 'Germany', 'China', 'Italy', 'USA', 'Russia',\n       'South Korea', 'Netherlands', 'France', 'Canada', 'Belgium',\n       'Spain', 'India', 'United Kingdom', 'Australia', 'Brazil',\n       'Switzerland', 'Mexico', 'Austria', 'Singapore', 'Vietnam',\n       'Malaysia', 'United Arab Emirates'], dtype=object)"
     },
     "execution_count": 9,
     "metadata": {},
     "output_type": "execute_result"
    }
   ],
   "source": [
    "# Obtener los valores únicos de origen\n",
    "datos['origin'].unique()\n",
    "\n",
    "#type(datos['origin'].unique())"
   ]
  },
  {
   "cell_type": "code",
   "execution_count": 10,
   "id": "aabc0a19-605e-4f2a-a935-95b292101796",
   "metadata": {},
   "outputs": [
    {
     "data": {
      "text/plain": "array(['China', 'USA', 'South Korea', 'Spain', 'Italy', 'Japan',\n       'Germany', 'Mexico', 'Brazil', 'France', 'Switzerland',\n       'United Kingdom', 'Croatia', 'Ireland', 'Belgium', 'Argentina',\n       'Singapore', 'Canada', 'Netherlands', 'Belorussia', 'Turkey',\n       'India', 'Vietnam', 'Russia', 'United Arab Emirates', 'Thailand',\n       'Philippines', 'Peru', 'Austria', 'New Zealand', 'Rusia',\n       'Slovakia', 'Malaysia', 'Poland'], dtype=object)"
     },
     "execution_count": 10,
     "metadata": {},
     "output_type": "execute_result"
    }
   ],
   "source": [
    "# Obtener los valores únicos de destino\n",
    "datos['destination'].unique()"
   ]
  },
  {
   "cell_type": "code",
   "execution_count": 11,
   "id": "d1f6a22c-1f32-4f50-8a73-3e8623803b22",
   "metadata": {},
   "outputs": [
    {
     "data": {
      "text/plain": "<seaborn.axisgrid.FacetGrid at 0x2db9879efa0>"
     },
     "execution_count": 11,
     "metadata": {},
     "output_type": "execute_result"
    },
    {
     "data": {
      "text/plain": "<Figure size 447.125x360 with 1 Axes>",
      "image/png": "[encoded data removed]"
     },
     "metadata": {
      "needs_background": "light"
     },
     "output_type": "display_data"
    }
   ],
   "source": [
    "# Gráfico para los tipos de transporte por año\n",
    "sns.catplot(x='year', data=datos, hue='transport_mode',kind='count')"
   ]
  },
  {
   "cell_type": "code",
   "execution_count": 12,
   "id": "29460664-818e-4391-91b3-c8dab5ff2986",
   "metadata": {},
   "outputs": [
    {
     "data": {
      "text/plain": "array(['Japan', 'Germany', 'China', 'Italy', 'USA', 'Russia',\n       'South Korea', 'Netherlands', 'France', 'Canada', 'Belgium',\n       'Spain', 'India', 'United Kingdom', 'Australia', 'Brazil',\n       'Switzerland', 'Mexico', 'Austria', 'Singapore', 'Vietnam',\n       'Malaysia', 'United Arab Emirates'], dtype=object)"
     },
     "execution_count": 12,
     "metadata": {},
     "output_type": "execute_result"
    }
   ],
   "source": [
    "datos['origin'].unique()"
   ]
  },
  {
   "cell_type": "code",
   "execution_count": 12,
   "id": "7488a3fa-1fb2-4be7-8387-9d7078ae3020",
   "metadata": {},
   "outputs": [],
   "source": []
  }
 ],
 "metadata": {
  "kernelspec": {
   "name": "pycharm-10f5e584",
   "language": "python",
   "display_name": "PyCharm (synergy-logystics)"
  },
  "language_info": {
   "codemirror_mode": {
    "name": "ipython",
    "version": 3
   },
   "file_extension": ".py",
   "mimetype": "text/x-python",
   "name": "python",
   "nbconvert_exporter": "python",
   "pygments_lexer": "ipython3",
   "version": "3.9.5"
  }
 },
 "nbformat": 4,
 "nbformat_minor": 5
}